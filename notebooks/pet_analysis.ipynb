{
 "cells": [
  {
   "cell_type": "code",
   "execution_count": 1,
   "id": "991898ca",
   "metadata": {},
   "outputs": [],
   "source": [
    "import requests\n",
    "import pandas as pd\n",
    "import matplotlib.pyplot as plt\n",
    "import time\n",
    "import seaborn as sns\n",
    "import numpy as np\n",
    "\n",
    "%matplotlib inline\n",
    "pd.set_option('display.max_columns', None)"
   ]
  },
  {
   "cell_type": "code",
   "execution_count": 2,
   "id": "7b614321",
   "metadata": {},
   "outputs": [
    {
     "name": "stderr",
     "output_type": "stream",
     "text": [
      "C:\\Users\\Max-X1\\AppData\\Local\\Temp\\ipykernel_64156\\3667737777.py:1: DtypeWarning: Columns (17,18,22,23,25,26) have mixed types. Specify dtype option on import or set low_memory=False.\n",
      "  df = pd.read_csv('..//data/cleaned_pets.csv')\n"
     ]
    }
   ],
   "source": [
    "df = pd.read_csv('..//data/cleaned_pets.csv')"
   ]
  },
  {
   "cell_type": "code",
   "execution_count": 3,
   "id": "06e14afb",
   "metadata": {},
   "outputs": [
    {
     "data": {
      "text/plain": [
       "(34010, 42)"
      ]
     },
     "execution_count": 3,
     "metadata": {},
     "output_type": "execute_result"
    }
   ],
   "source": [
    "df.shape"
   ]
  },
  {
   "cell_type": "code",
   "execution_count": 4,
   "id": "5a4ab49e",
   "metadata": {},
   "outputs": [
    {
     "data": {
      "text/plain": [
       "(34009, 42)"
      ]
     },
     "execution_count": 4,
     "metadata": {},
     "output_type": "execute_result"
    }
   ],
   "source": [
    "# Drop row that has null values throughout all columns\n",
    "df[df['breeds.primary'].isna()]\n",
    "df = df.drop(33944)\n",
    "df.shape"
   ]
  },
  {
   "cell_type": "markdown",
   "id": "ac6f25cf",
   "metadata": {},
   "source": [
    "Calculate adoption time"
   ]
  },
  {
   "cell_type": "code",
   "execution_count": 5,
   "id": "0dfd2e77",
   "metadata": {},
   "outputs": [],
   "source": [
    "# Convert to datetime format\n",
    "df['published_date'] = pd.to_datetime(df['published_date'], format='%m/%d/%y')\n",
    "df['status_change_date'] = pd.to_datetime(df['status_change_date'], format='%m/%d/%y')\n",
    "\n",
    "# Calculate adoption time (time available for adoption)\n",
    "df['adoption_time'] = (df['status_change_date'] - df['published_date']).dt.days"
   ]
  },
  {
   "cell_type": "code",
   "execution_count": 6,
   "id": "21d8a172",
   "metadata": {},
   "outputs": [],
   "source": [
    "# Create adopted and adoptable dataframes\n",
    "adopted = df[(df['year_status_change'] == 2023) & (df['status'] == 'adopted')]\n",
    "adoptable = df[(df['year_status_change'] == 2023) & (df['status'] == 'adoptable')]"
   ]
  },
  {
   "cell_type": "markdown",
   "id": "2db62663",
   "metadata": {},
   "source": [
    "# All Pets Analysis"
   ]
  },
  {
   "cell_type": "markdown",
   "id": "57682684",
   "metadata": {},
   "source": [
    "How many pets were published/put up for adoption in 2023? "
   ]
  },
  {
   "cell_type": "code",
   "execution_count": 7,
   "id": "4eeab994",
   "metadata": {},
   "outputs": [
    {
     "name": "stdout",
     "output_type": "stream",
     "text": [
      "Number of pets placed for adoption:  34009\n"
     ]
    }
   ],
   "source": [
    "# Subset data for 2023 \n",
    "published = df[df['year_published'] == 2023]\n",
    "\n",
    "print('Number of pets placed for adoption: ', published['id'].count())"
   ]
  },
  {
   "cell_type": "markdown",
   "id": "b27aa80d",
   "metadata": {},
   "source": [
    "How many pets were adopted in 2023?"
   ]
  },
  {
   "cell_type": "code",
   "execution_count": 8,
   "id": "02219233",
   "metadata": {},
   "outputs": [
    {
     "name": "stdout",
     "output_type": "stream",
     "text": [
      "Number of pets adopted in 2023:  29735\n"
     ]
    }
   ],
   "source": [
    "# Subset data by year 2023 and status = adopted \n",
    "adopted = df[(df['year_status_change'] == 2023) & (df['status'] == 'adopted')]\n",
    "\n",
    "print('Number of pets adopted in 2023: ', adopted['id'].count())"
   ]
  },
  {
   "cell_type": "markdown",
   "id": "dec87da8",
   "metadata": {},
   "source": [
    "How many pets were published but NOT adopted in 2023? "
   ]
  },
  {
   "cell_type": "code",
   "execution_count": 9,
   "id": "dcd6c197",
   "metadata": {},
   "outputs": [
    {
     "name": "stdout",
     "output_type": "stream",
     "text": [
      "Pets published but not adopted in 2023:  1251\n"
     ]
    }
   ],
   "source": [
    "# Subset year status was changed to not equal to 2023\n",
    "available = df[df['year_status_change'] != 2023]\n",
    "\n",
    "print('Pets published but not adopted in 2023: ', available['id'].count())"
   ]
  },
  {
   "cell_type": "code",
   "execution_count": 10,
   "id": "1fccc9a4",
   "metadata": {},
   "outputs": [],
   "source": [
    "# Check \n",
    "#available.groupby('year_status_change')['id'].count()"
   ]
  },
  {
   "cell_type": "markdown",
   "id": "4c04ea93",
   "metadata": {},
   "source": [
    "How many pets of each species were placed for adoption in 2023?"
   ]
  },
  {
   "cell_type": "code",
   "execution_count": 11,
   "id": "1c50d7bc",
   "metadata": {},
   "outputs": [
    {
     "data": {
      "text/html": [
       "<div>\n",
       "<style scoped>\n",
       "    .dataframe tbody tr th:only-of-type {\n",
       "        vertical-align: middle;\n",
       "    }\n",
       "\n",
       "    .dataframe tbody tr th {\n",
       "        vertical-align: top;\n",
       "    }\n",
       "\n",
       "    .dataframe thead th {\n",
       "        text-align: right;\n",
       "    }\n",
       "</style>\n",
       "<table border=\"1\" class=\"dataframe\">\n",
       "  <thead>\n",
       "    <tr style=\"text-align: right;\">\n",
       "      <th></th>\n",
       "      <th>species</th>\n",
       "      <th>count published</th>\n",
       "    </tr>\n",
       "  </thead>\n",
       "  <tbody>\n",
       "    <tr>\n",
       "      <th>1</th>\n",
       "      <td>Dog</td>\n",
       "      <td>19677</td>\n",
       "    </tr>\n",
       "    <tr>\n",
       "      <th>0</th>\n",
       "      <td>Cat</td>\n",
       "      <td>14116</td>\n",
       "    </tr>\n",
       "    <tr>\n",
       "      <th>11</th>\n",
       "      <td>Rabbit</td>\n",
       "      <td>108</td>\n",
       "    </tr>\n",
       "    <tr>\n",
       "      <th>3</th>\n",
       "      <td>Guinea Pig</td>\n",
       "      <td>57</td>\n",
       "    </tr>\n",
       "    <tr>\n",
       "      <th>10</th>\n",
       "      <td>Pot Bellied</td>\n",
       "      <td>18</td>\n",
       "    </tr>\n",
       "    <tr>\n",
       "      <th>6</th>\n",
       "      <td>Horse</td>\n",
       "      <td>12</td>\n",
       "    </tr>\n",
       "    <tr>\n",
       "      <th>9</th>\n",
       "      <td>Pig</td>\n",
       "      <td>5</td>\n",
       "    </tr>\n",
       "    <tr>\n",
       "      <th>2</th>\n",
       "      <td>Goat</td>\n",
       "      <td>4</td>\n",
       "    </tr>\n",
       "    <tr>\n",
       "      <th>7</th>\n",
       "      <td>Miniature Horse</td>\n",
       "      <td>3</td>\n",
       "    </tr>\n",
       "    <tr>\n",
       "      <th>4</th>\n",
       "      <td>Hamster</td>\n",
       "      <td>2</td>\n",
       "    </tr>\n",
       "    <tr>\n",
       "      <th>5</th>\n",
       "      <td>Hedgehog</td>\n",
       "      <td>2</td>\n",
       "    </tr>\n",
       "    <tr>\n",
       "      <th>12</th>\n",
       "      <td>Rat</td>\n",
       "      <td>2</td>\n",
       "    </tr>\n",
       "    <tr>\n",
       "      <th>8</th>\n",
       "      <td>Mule</td>\n",
       "      <td>1</td>\n",
       "    </tr>\n",
       "    <tr>\n",
       "      <th>13</th>\n",
       "      <td>Reptile</td>\n",
       "      <td>1</td>\n",
       "    </tr>\n",
       "    <tr>\n",
       "      <th>14</th>\n",
       "      <td>Snake</td>\n",
       "      <td>1</td>\n",
       "    </tr>\n",
       "  </tbody>\n",
       "</table>\n",
       "</div>"
      ],
      "text/plain": [
       "            species  count published\n",
       "1               Dog            19677\n",
       "0               Cat            14116\n",
       "11           Rabbit              108\n",
       "3        Guinea Pig               57\n",
       "10      Pot Bellied               18\n",
       "6             Horse               12\n",
       "9               Pig                5\n",
       "2              Goat                4\n",
       "7   Miniature Horse                3\n",
       "4           Hamster                2\n",
       "5          Hedgehog                2\n",
       "12              Rat                2\n",
       "8              Mule                1\n",
       "13          Reptile                1\n",
       "14            Snake                1"
      ]
     },
     "execution_count": 11,
     "metadata": {},
     "output_type": "execute_result"
    }
   ],
   "source": [
    "# Group ids by species and count\n",
    "published_species = df.groupby('species')['id'].count().reset_index(name='count published').sort_values('count published', ascending=False)\n",
    "\n",
    "published_species"
   ]
  },
  {
   "cell_type": "markdown",
   "id": "92735192",
   "metadata": {},
   "source": [
    "How many pets of each species were adopted in 2023?"
   ]
  },
  {
   "cell_type": "code",
   "execution_count": 12,
   "id": "835e78b6",
   "metadata": {},
   "outputs": [
    {
     "data": {
      "text/html": [
       "<div>\n",
       "<style scoped>\n",
       "    .dataframe tbody tr th:only-of-type {\n",
       "        vertical-align: middle;\n",
       "    }\n",
       "\n",
       "    .dataframe tbody tr th {\n",
       "        vertical-align: top;\n",
       "    }\n",
       "\n",
       "    .dataframe thead th {\n",
       "        text-align: right;\n",
       "    }\n",
       "</style>\n",
       "<table border=\"1\" class=\"dataframe\">\n",
       "  <thead>\n",
       "    <tr style=\"text-align: right;\">\n",
       "      <th></th>\n",
       "      <th>species</th>\n",
       "      <th>count adopted</th>\n",
       "    </tr>\n",
       "  </thead>\n",
       "  <tbody>\n",
       "    <tr>\n",
       "      <th>1</th>\n",
       "      <td>Dog</td>\n",
       "      <td>16982</td>\n",
       "    </tr>\n",
       "    <tr>\n",
       "      <th>0</th>\n",
       "      <td>Cat</td>\n",
       "      <td>12592</td>\n",
       "    </tr>\n",
       "    <tr>\n",
       "      <th>10</th>\n",
       "      <td>Rabbit</td>\n",
       "      <td>75</td>\n",
       "    </tr>\n",
       "    <tr>\n",
       "      <th>3</th>\n",
       "      <td>Guinea Pig</td>\n",
       "      <td>47</td>\n",
       "    </tr>\n",
       "    <tr>\n",
       "      <th>9</th>\n",
       "      <td>Pot Bellied</td>\n",
       "      <td>17</td>\n",
       "    </tr>\n",
       "    <tr>\n",
       "      <th>5</th>\n",
       "      <td>Horse</td>\n",
       "      <td>7</td>\n",
       "    </tr>\n",
       "    <tr>\n",
       "      <th>8</th>\n",
       "      <td>Pig</td>\n",
       "      <td>5</td>\n",
       "    </tr>\n",
       "    <tr>\n",
       "      <th>2</th>\n",
       "      <td>Goat</td>\n",
       "      <td>4</td>\n",
       "    </tr>\n",
       "    <tr>\n",
       "      <th>6</th>\n",
       "      <td>Miniature Horse</td>\n",
       "      <td>2</td>\n",
       "    </tr>\n",
       "    <tr>\n",
       "      <th>11</th>\n",
       "      <td>Rat</td>\n",
       "      <td>2</td>\n",
       "    </tr>\n",
       "    <tr>\n",
       "      <th>4</th>\n",
       "      <td>Hedgehog</td>\n",
       "      <td>1</td>\n",
       "    </tr>\n",
       "    <tr>\n",
       "      <th>7</th>\n",
       "      <td>Mule</td>\n",
       "      <td>1</td>\n",
       "    </tr>\n",
       "  </tbody>\n",
       "</table>\n",
       "</div>"
      ],
      "text/plain": [
       "            species  count adopted\n",
       "1               Dog          16982\n",
       "0               Cat          12592\n",
       "10           Rabbit             75\n",
       "3        Guinea Pig             47\n",
       "9       Pot Bellied             17\n",
       "5             Horse              7\n",
       "8               Pig              5\n",
       "2              Goat              4\n",
       "6   Miniature Horse              2\n",
       "11              Rat              2\n",
       "4          Hedgehog              1\n",
       "7              Mule              1"
      ]
     },
     "execution_count": 12,
     "metadata": {},
     "output_type": "execute_result"
    }
   ],
   "source": [
    "# Group adopted by species and count ids\n",
    "adopted_species = adopted.groupby('species')['id'].count().reset_index(name='count adopted').sort_values('count adopted', ascending=False)\n",
    "\n",
    "adopted_species"
   ]
  },
  {
   "cell_type": "markdown",
   "id": "f8cf4c9b",
   "metadata": {},
   "source": [
    "What is the overall adoption rate for 2023?"
   ]
  },
  {
   "cell_type": "code",
   "execution_count": 13,
   "id": "72ec66d7",
   "metadata": {},
   "outputs": [
    {
     "name": "stdout",
     "output_type": "stream",
     "text": [
      "Overall Adoption Rate:  87.43 %\n"
     ]
    }
   ],
   "source": [
    "# Calculate adoption rate by dividing number of adopted pets by total pets and multipy * 100 to get overall adoption rate\n",
    "adoption_rate = (adopted['id'].count() / df['id'].count()) * 100\n",
    "\n",
    "print('Overall Adoption Rate: ', round(adoption_rate, 2),'%')"
   ]
  },
  {
   "cell_type": "markdown",
   "id": "ac6771ed",
   "metadata": {},
   "source": [
    "What is the adoption rate by species? "
   ]
  },
  {
   "cell_type": "code",
   "execution_count": 14,
   "id": "17bd8ae8",
   "metadata": {},
   "outputs": [
    {
     "data": {
      "text/html": [
       "<div>\n",
       "<style scoped>\n",
       "    .dataframe tbody tr th:only-of-type {\n",
       "        vertical-align: middle;\n",
       "    }\n",
       "\n",
       "    .dataframe tbody tr th {\n",
       "        vertical-align: top;\n",
       "    }\n",
       "\n",
       "    .dataframe thead th {\n",
       "        text-align: right;\n",
       "    }\n",
       "</style>\n",
       "<table border=\"1\" class=\"dataframe\">\n",
       "  <thead>\n",
       "    <tr style=\"text-align: right;\">\n",
       "      <th></th>\n",
       "      <th>species</th>\n",
       "      <th>count published</th>\n",
       "      <th>count adopted</th>\n",
       "      <th>adoption rate %</th>\n",
       "    </tr>\n",
       "  </thead>\n",
       "  <tbody>\n",
       "    <tr>\n",
       "      <th>6</th>\n",
       "      <td>Pig</td>\n",
       "      <td>5</td>\n",
       "      <td>5</td>\n",
       "      <td>100.00</td>\n",
       "    </tr>\n",
       "    <tr>\n",
       "      <th>7</th>\n",
       "      <td>Goat</td>\n",
       "      <td>4</td>\n",
       "      <td>4</td>\n",
       "      <td>100.00</td>\n",
       "    </tr>\n",
       "    <tr>\n",
       "      <th>11</th>\n",
       "      <td>Rat</td>\n",
       "      <td>2</td>\n",
       "      <td>2</td>\n",
       "      <td>100.00</td>\n",
       "    </tr>\n",
       "    <tr>\n",
       "      <th>12</th>\n",
       "      <td>Mule</td>\n",
       "      <td>1</td>\n",
       "      <td>1</td>\n",
       "      <td>100.00</td>\n",
       "    </tr>\n",
       "    <tr>\n",
       "      <th>4</th>\n",
       "      <td>Pot Bellied</td>\n",
       "      <td>18</td>\n",
       "      <td>17</td>\n",
       "      <td>94.44</td>\n",
       "    </tr>\n",
       "    <tr>\n",
       "      <th>1</th>\n",
       "      <td>Cat</td>\n",
       "      <td>14116</td>\n",
       "      <td>12592</td>\n",
       "      <td>89.20</td>\n",
       "    </tr>\n",
       "    <tr>\n",
       "      <th>0</th>\n",
       "      <td>Dog</td>\n",
       "      <td>19677</td>\n",
       "      <td>16982</td>\n",
       "      <td>86.30</td>\n",
       "    </tr>\n",
       "    <tr>\n",
       "      <th>3</th>\n",
       "      <td>Guinea Pig</td>\n",
       "      <td>57</td>\n",
       "      <td>47</td>\n",
       "      <td>82.46</td>\n",
       "    </tr>\n",
       "    <tr>\n",
       "      <th>2</th>\n",
       "      <td>Rabbit</td>\n",
       "      <td>108</td>\n",
       "      <td>75</td>\n",
       "      <td>69.44</td>\n",
       "    </tr>\n",
       "    <tr>\n",
       "      <th>8</th>\n",
       "      <td>Miniature Horse</td>\n",
       "      <td>3</td>\n",
       "      <td>2</td>\n",
       "      <td>66.67</td>\n",
       "    </tr>\n",
       "    <tr>\n",
       "      <th>5</th>\n",
       "      <td>Horse</td>\n",
       "      <td>12</td>\n",
       "      <td>7</td>\n",
       "      <td>58.33</td>\n",
       "    </tr>\n",
       "    <tr>\n",
       "      <th>10</th>\n",
       "      <td>Hedgehog</td>\n",
       "      <td>2</td>\n",
       "      <td>1</td>\n",
       "      <td>50.00</td>\n",
       "    </tr>\n",
       "    <tr>\n",
       "      <th>9</th>\n",
       "      <td>Hamster</td>\n",
       "      <td>2</td>\n",
       "      <td>0</td>\n",
       "      <td>0.00</td>\n",
       "    </tr>\n",
       "    <tr>\n",
       "      <th>13</th>\n",
       "      <td>Reptile</td>\n",
       "      <td>1</td>\n",
       "      <td>0</td>\n",
       "      <td>0.00</td>\n",
       "    </tr>\n",
       "    <tr>\n",
       "      <th>14</th>\n",
       "      <td>Snake</td>\n",
       "      <td>1</td>\n",
       "      <td>0</td>\n",
       "      <td>0.00</td>\n",
       "    </tr>\n",
       "  </tbody>\n",
       "</table>\n",
       "</div>"
      ],
      "text/plain": [
       "            species  count published  count adopted  adoption rate %\n",
       "6               Pig                5              5           100.00\n",
       "7              Goat                4              4           100.00\n",
       "11              Rat                2              2           100.00\n",
       "12             Mule                1              1           100.00\n",
       "4       Pot Bellied               18             17            94.44\n",
       "1               Cat            14116          12592            89.20\n",
       "0               Dog            19677          16982            86.30\n",
       "3        Guinea Pig               57             47            82.46\n",
       "2            Rabbit              108             75            69.44\n",
       "8   Miniature Horse                3              2            66.67\n",
       "5             Horse               12              7            58.33\n",
       "10         Hedgehog                2              1            50.00\n",
       "9           Hamster                2              0             0.00\n",
       "13          Reptile                1              0             0.00\n",
       "14            Snake                1              0             0.00"
      ]
     },
     "execution_count": 14,
     "metadata": {},
     "output_type": "execute_result"
    }
   ],
   "source": [
    "# Outer join published species and adopted species\n",
    "adoption_rate = pd.merge(published_species, adopted_species, on='species', how='outer')\n",
    "\n",
    "# Fill NaN values with zero\n",
    "adoption_rate = adoption_rate.fillna(0)\n",
    "\n",
    "# Convert 'count adopted' column to integer\n",
    "adoption_rate['count adopted'] = adoption_rate['count adopted'].astype(int)\n",
    "\n",
    "# Calculate the adoption rate %\n",
    "adoption_rate['adoption rate %'] = round((adoption_rate['count adopted'] / adoption_rate['count published']) * 100, 2)\n",
    "adoption_rate.sort_values('adoption rate %', ascending=False)"
   ]
  },
  {
   "cell_type": "markdown",
   "id": "fd6bc9a2",
   "metadata": {},
   "source": [
    "What is the adoption rate by age? What age group has the highest and lowest adoption rate? "
   ]
  },
  {
   "cell_type": "markdown",
   "id": "f51eb2e6",
   "metadata": {},
   "source": [
    "Answer: Highest - Baby, Lowest - Seniors "
   ]
  },
  {
   "cell_type": "code",
   "execution_count": 15,
   "id": "2bc3e534",
   "metadata": {},
   "outputs": [
    {
     "data": {
      "text/html": [
       "<div>\n",
       "<style scoped>\n",
       "    .dataframe tbody tr th:only-of-type {\n",
       "        vertical-align: middle;\n",
       "    }\n",
       "\n",
       "    .dataframe tbody tr th {\n",
       "        vertical-align: top;\n",
       "    }\n",
       "\n",
       "    .dataframe thead th {\n",
       "        text-align: right;\n",
       "    }\n",
       "</style>\n",
       "<table border=\"1\" class=\"dataframe\">\n",
       "  <thead>\n",
       "    <tr style=\"text-align: right;\">\n",
       "      <th></th>\n",
       "      <th>age</th>\n",
       "      <th>count published</th>\n",
       "      <th>count adopted</th>\n",
       "      <th>adoption rate %</th>\n",
       "    </tr>\n",
       "  </thead>\n",
       "  <tbody>\n",
       "    <tr>\n",
       "      <th>1</th>\n",
       "      <td>Baby</td>\n",
       "      <td>8565</td>\n",
       "      <td>7668</td>\n",
       "      <td>89.20</td>\n",
       "    </tr>\n",
       "    <tr>\n",
       "      <th>0</th>\n",
       "      <td>Adult</td>\n",
       "      <td>16477</td>\n",
       "      <td>14741</td>\n",
       "      <td>86.30</td>\n",
       "    </tr>\n",
       "    <tr>\n",
       "      <th>3</th>\n",
       "      <td>Young</td>\n",
       "      <td>7488</td>\n",
       "      <td>6013</td>\n",
       "      <td>82.46</td>\n",
       "    </tr>\n",
       "    <tr>\n",
       "      <th>2</th>\n",
       "      <td>Senior</td>\n",
       "      <td>1479</td>\n",
       "      <td>1313</td>\n",
       "      <td>69.44</td>\n",
       "    </tr>\n",
       "  </tbody>\n",
       "</table>\n",
       "</div>"
      ],
      "text/plain": [
       "      age  count published  count adopted  adoption rate %\n",
       "1    Baby             8565           7668            89.20\n",
       "0   Adult            16477          14741            86.30\n",
       "3   Young             7488           6013            82.46\n",
       "2  Senior             1479           1313            69.44"
      ]
     },
     "execution_count": 15,
     "metadata": {},
     "output_type": "execute_result"
    }
   ],
   "source": [
    "# Group id by age and count for published and adopted dfs\n",
    "pub_age_count = df.groupby('age')['id'].count().reset_index(name='count published')\n",
    "adopted_age_count = adopted.groupby('age')['id'].count().reset_index(name='count adopted')\n",
    "\n",
    "# Merge two dfs together\n",
    "age_adoption_rate = pd.merge(pub_age_count, adopted_age_count, on='age')\n",
    "\n",
    "# Calculate adoption rate\n",
    "age_adoption_rate['adoption rate %'] = round((adoption_rate['count adopted'] / adoption_rate['count published']) * 100, 2)\n",
    "\n",
    "age_adoption_rate.sort_values('adoption rate %', ascending=False)"
   ]
  },
  {
   "cell_type": "code",
   "execution_count": 16,
   "id": "c05e7d38",
   "metadata": {},
   "outputs": [
    {
     "data": {
      "text/plain": [
       "Index(['id', 'organization_id', 'url', 'type', 'species', 'age', 'gender',\n",
       "       'size', 'coat', 'tags', 'name', 'description', 'status',\n",
       "       'status_changed_at', 'published_at', 'breeds.primary',\n",
       "       'breeds.secondary', 'breeds.mixed', 'breeds.unknown', 'colors.primary',\n",
       "       'colors.secondary', 'colors.tertiary', 'attributes.spayed_neutered',\n",
       "       'attributes.house_trained', 'attributes.declawed',\n",
       "       'attributes.special_needs', 'attributes.shots_current',\n",
       "       'environment.children', 'environment.dogs', 'environment.cats',\n",
       "       'contact.address.city', 'contact.address.state',\n",
       "       'contact.address.postcode', 'published_date', 'status_change_date',\n",
       "       'adoption_time', 'month_published', 'day_published', 'year_published',\n",
       "       'month_status_change', 'day_status_change', 'year_status_change'],\n",
       "      dtype='object')"
      ]
     },
     "execution_count": 16,
     "metadata": {},
     "output_type": "execute_result"
    }
   ],
   "source": [
    "df.columns"
   ]
  },
  {
   "cell_type": "markdown",
   "id": "4b7e6016",
   "metadata": {},
   "source": [
    "What is the adoption rate by month?"
   ]
  },
  {
   "cell_type": "code",
   "execution_count": 17,
   "id": "b07d9011",
   "metadata": {},
   "outputs": [],
   "source": [
    "# Create column for adopted months\n",
    "\n",
    "# Create a new column named 'adopted_month' and initialize all values to 0\n",
    "df['adopted_month'] = 0  \n",
    "\n",
    "# Loop through each row in the DataFrame and check for the following conditions\n",
    "# If true - update adopted_month column with month status was changed, if false - insert zero\n",
    "for index, row in df.iterrows():\n",
    "    if row['status'] == 'adopted' and row['year_status_change'] == 2023:\n",
    "        df.at[index, 'adopted_month'] = row['month_status_change']\n",
    "    else:\n",
    "        df.at[index, 'adopted_month'] = 0"
   ]
  },
  {
   "cell_type": "code",
   "execution_count": null,
   "id": "6d0b378f",
   "metadata": {},
   "outputs": [],
   "source": []
  },
  {
   "cell_type": "markdown",
   "id": "3654680f",
   "metadata": {},
   "source": [
    "What is the average adoption time (in days) per species? Which species has the longest adoption time?"
   ]
  },
  {
   "cell_type": "code",
   "execution_count": 18,
   "id": "5bc071ea",
   "metadata": {},
   "outputs": [
    {
     "name": "stdout",
     "output_type": "stream",
     "text": [
      "Answer: Rabbits: 74 days\n"
     ]
    },
    {
     "data": {
      "text/html": [
       "<div>\n",
       "<style scoped>\n",
       "    .dataframe tbody tr th:only-of-type {\n",
       "        vertical-align: middle;\n",
       "    }\n",
       "\n",
       "    .dataframe tbody tr th {\n",
       "        vertical-align: top;\n",
       "    }\n",
       "\n",
       "    .dataframe thead th {\n",
       "        text-align: right;\n",
       "    }\n",
       "</style>\n",
       "<table border=\"1\" class=\"dataframe\">\n",
       "  <thead>\n",
       "    <tr style=\"text-align: right;\">\n",
       "      <th></th>\n",
       "      <th>species</th>\n",
       "      <th>avg_adoption_time</th>\n",
       "    </tr>\n",
       "  </thead>\n",
       "  <tbody>\n",
       "    <tr>\n",
       "      <th>10</th>\n",
       "      <td>Rabbit</td>\n",
       "      <td>73.533333</td>\n",
       "    </tr>\n",
       "    <tr>\n",
       "      <th>11</th>\n",
       "      <td>Rat</td>\n",
       "      <td>73.500000</td>\n",
       "    </tr>\n",
       "    <tr>\n",
       "      <th>5</th>\n",
       "      <td>Horse</td>\n",
       "      <td>50.571429</td>\n",
       "    </tr>\n",
       "    <tr>\n",
       "      <th>7</th>\n",
       "      <td>Mule</td>\n",
       "      <td>43.000000</td>\n",
       "    </tr>\n",
       "    <tr>\n",
       "      <th>6</th>\n",
       "      <td>Miniature Horse</td>\n",
       "      <td>42.000000</td>\n",
       "    </tr>\n",
       "    <tr>\n",
       "      <th>3</th>\n",
       "      <td>Guinea Pig</td>\n",
       "      <td>38.829787</td>\n",
       "    </tr>\n",
       "    <tr>\n",
       "      <th>1</th>\n",
       "      <td>Dog</td>\n",
       "      <td>17.992286</td>\n",
       "    </tr>\n",
       "    <tr>\n",
       "      <th>9</th>\n",
       "      <td>Pot Bellied</td>\n",
       "      <td>16.235294</td>\n",
       "    </tr>\n",
       "    <tr>\n",
       "      <th>0</th>\n",
       "      <td>Cat</td>\n",
       "      <td>15.105702</td>\n",
       "    </tr>\n",
       "    <tr>\n",
       "      <th>2</th>\n",
       "      <td>Goat</td>\n",
       "      <td>7.000000</td>\n",
       "    </tr>\n",
       "    <tr>\n",
       "      <th>8</th>\n",
       "      <td>Pig</td>\n",
       "      <td>1.400000</td>\n",
       "    </tr>\n",
       "    <tr>\n",
       "      <th>4</th>\n",
       "      <td>Hedgehog</td>\n",
       "      <td>0.000000</td>\n",
       "    </tr>\n",
       "  </tbody>\n",
       "</table>\n",
       "</div>"
      ],
      "text/plain": [
       "            species  avg_adoption_time\n",
       "10           Rabbit          73.533333\n",
       "11              Rat          73.500000\n",
       "5             Horse          50.571429\n",
       "7              Mule          43.000000\n",
       "6   Miniature Horse          42.000000\n",
       "3        Guinea Pig          38.829787\n",
       "1               Dog          17.992286\n",
       "9       Pot Bellied          16.235294\n",
       "0               Cat          15.105702\n",
       "2              Goat           7.000000\n",
       "8               Pig           1.400000\n",
       "4          Hedgehog           0.000000"
      ]
     },
     "execution_count": 18,
     "metadata": {},
     "output_type": "execute_result"
    }
   ],
   "source": [
    "# Calculate average adoption time by species\n",
    "avg_time = adopted.groupby('species')['adoption_time'].mean().reset_index(name='avg_adoption_time').sort_values('avg_adoption_time', ascending=False)\n",
    "\n",
    "print('Answer: Rabbits:', round(avg_time['avg_adoption_time'].max()), 'days')\n",
    "avg_time"
   ]
  },
  {
   "cell_type": "markdown",
   "id": "1c2ae2a3",
   "metadata": {},
   "source": [
    "What cities in TN are pets available in TN?"
   ]
  },
  {
   "cell_type": "code",
   "execution_count": null,
   "id": "6fecb45a",
   "metadata": {},
   "outputs": [],
   "source": []
  },
  {
   "cell_type": "code",
   "execution_count": 29,
   "id": "250e9a93",
   "metadata": {},
   "outputs": [
    {
     "data": {
      "text/plain": [
       "Index(['id', 'organization_id', 'url', 'type', 'species', 'age', 'gender',\n",
       "       'size', 'coat', 'tags', 'name', 'description', 'status',\n",
       "       'status_changed_at', 'published_at', 'breeds.primary',\n",
       "       'breeds.secondary', 'breeds.mixed', 'breeds.unknown', 'colors.primary',\n",
       "       'colors.secondary', 'colors.tertiary', 'attributes.spayed_neutered',\n",
       "       'attributes.house_trained', 'attributes.declawed',\n",
       "       'attributes.special_needs', 'attributes.shots_current',\n",
       "       'environment.children', 'environment.dogs', 'environment.cats',\n",
       "       'contact.address.city', 'contact.address.state',\n",
       "       'contact.address.postcode', 'published_date', 'status_change_date',\n",
       "       'adoption_time', 'month_published', 'day_published', 'year_published',\n",
       "       'month_status_change', 'day_status_change', 'year_status_change',\n",
       "       'adopted_month'],\n",
       "      dtype='object')"
      ]
     },
     "execution_count": 29,
     "metadata": {},
     "output_type": "execute_result"
    }
   ],
   "source": [
    "df.columns"
   ]
  },
  {
   "cell_type": "markdown",
   "id": "9262152c",
   "metadata": {},
   "source": [
    "# Dog Analysis"
   ]
  },
  {
   "cell_type": "code",
   "execution_count": 19,
   "id": "f270068b",
   "metadata": {
    "scrolled": false
   },
   "outputs": [
    {
     "name": "stdout",
     "output_type": "stream",
     "text": [
      "(19677, 43)\n"
     ]
    },
    {
     "data": {
      "text/plain": [
       "type\n",
       "Dog    19677\n",
       "Name: id, dtype: int64"
      ]
     },
     "execution_count": 19,
     "metadata": {},
     "output_type": "execute_result"
    }
   ],
   "source": [
    "dogs = df[df['species'] == 'Dog']\n",
    "print(dogs.shape)\n",
    "dogs.groupby('type')['id'].count()"
   ]
  },
  {
   "cell_type": "markdown",
   "id": "f17b5698",
   "metadata": {},
   "source": [
    "How many full breeds vs mixed breeds were listed for adoption?"
   ]
  },
  {
   "cell_type": "code",
   "execution_count": 33,
   "id": "5fad592f",
   "metadata": {},
   "outputs": [
    {
     "name": "stdout",
     "output_type": "stream",
     "text": [
      "Full Breed Dogs:  5833\n",
      "Mixed Breed Dogs:  13844\n"
     ]
    }
   ],
   "source": [
    "full = dogs[dogs['breeds.mixed'] == False]\n",
    "mixed = dogs[dogs['breeds.mixed'] == True]\n",
    "\n",
    "print('Full Breed Dogs: ', full['id'].count())\n",
    "print('Mixed Breed Dogs: ', mixed['id'].count())"
   ]
  },
  {
   "cell_type": "markdown",
   "id": "28054bc5",
   "metadata": {},
   "source": [
    "What are the top 20 breeds listed for adoption? Are they full or mixed breeds?"
   ]
  },
  {
   "cell_type": "code",
   "execution_count": 39,
   "id": "a220a3cb",
   "metadata": {},
   "outputs": [
    {
     "data": {
      "text/html": [
       "<div>\n",
       "<style scoped>\n",
       "    .dataframe tbody tr th:only-of-type {\n",
       "        vertical-align: middle;\n",
       "    }\n",
       "\n",
       "    .dataframe tbody tr th {\n",
       "        vertical-align: top;\n",
       "    }\n",
       "\n",
       "    .dataframe thead th {\n",
       "        text-align: right;\n",
       "    }\n",
       "</style>\n",
       "<table border=\"1\" class=\"dataframe\">\n",
       "  <thead>\n",
       "    <tr style=\"text-align: right;\">\n",
       "      <th></th>\n",
       "      <th>breeds.primary</th>\n",
       "      <th>breeds.mixed</th>\n",
       "      <th>count</th>\n",
       "    </tr>\n",
       "  </thead>\n",
       "  <tbody>\n",
       "    <tr>\n",
       "      <th>202</th>\n",
       "      <td>Labrador Retriever</td>\n",
       "      <td>True</td>\n",
       "      <td>1299</td>\n",
       "    </tr>\n",
       "    <tr>\n",
       "      <th>225</th>\n",
       "      <td>Mixed Breed</td>\n",
       "      <td>False</td>\n",
       "      <td>809</td>\n",
       "    </tr>\n",
       "    <tr>\n",
       "      <th>328</th>\n",
       "      <td>Terrier</td>\n",
       "      <td>True</td>\n",
       "      <td>778</td>\n",
       "    </tr>\n",
       "    <tr>\n",
       "      <th>182</th>\n",
       "      <td>Hound</td>\n",
       "      <td>True</td>\n",
       "      <td>767</td>\n",
       "    </tr>\n",
       "    <tr>\n",
       "      <th>98</th>\n",
       "      <td>Chihuahua</td>\n",
       "      <td>True</td>\n",
       "      <td>624</td>\n",
       "    </tr>\n",
       "    <tr>\n",
       "      <th>159</th>\n",
       "      <td>German Shepherd Dog</td>\n",
       "      <td>True</td>\n",
       "      <td>623</td>\n",
       "    </tr>\n",
       "    <tr>\n",
       "      <th>254</th>\n",
       "      <td>Pit Bull Terrier</td>\n",
       "      <td>True</td>\n",
       "      <td>619</td>\n",
       "    </tr>\n",
       "    <tr>\n",
       "      <th>36</th>\n",
       "      <td>Beagle</td>\n",
       "      <td>True</td>\n",
       "      <td>581</td>\n",
       "    </tr>\n",
       "    <tr>\n",
       "      <th>302</th>\n",
       "      <td>Shepherd</td>\n",
       "      <td>True</td>\n",
       "      <td>527</td>\n",
       "    </tr>\n",
       "    <tr>\n",
       "      <th>29</th>\n",
       "      <td>Australian Shepherd</td>\n",
       "      <td>True</td>\n",
       "      <td>465</td>\n",
       "    </tr>\n",
       "    <tr>\n",
       "      <th>64</th>\n",
       "      <td>Boxer</td>\n",
       "      <td>True</td>\n",
       "      <td>436</td>\n",
       "    </tr>\n",
       "    <tr>\n",
       "      <th>226</th>\n",
       "      <td>Mixed Breed</td>\n",
       "      <td>True</td>\n",
       "      <td>435</td>\n",
       "    </tr>\n",
       "    <tr>\n",
       "      <th>97</th>\n",
       "      <td>Chihuahua</td>\n",
       "      <td>False</td>\n",
       "      <td>404</td>\n",
       "    </tr>\n",
       "    <tr>\n",
       "      <th>25</th>\n",
       "      <td>Australian Cattle Dog / Blue Heeler</td>\n",
       "      <td>True</td>\n",
       "      <td>400</td>\n",
       "    </tr>\n",
       "    <tr>\n",
       "      <th>158</th>\n",
       "      <td>German Shepherd Dog</td>\n",
       "      <td>False</td>\n",
       "      <td>384</td>\n",
       "    </tr>\n",
       "    <tr>\n",
       "      <th>58</th>\n",
       "      <td>Border Collie</td>\n",
       "      <td>True</td>\n",
       "      <td>373</td>\n",
       "    </tr>\n",
       "    <tr>\n",
       "      <th>253</th>\n",
       "      <td>Pit Bull Terrier</td>\n",
       "      <td>False</td>\n",
       "      <td>344</td>\n",
       "    </tr>\n",
       "    <tr>\n",
       "      <th>184</th>\n",
       "      <td>Husky</td>\n",
       "      <td>True</td>\n",
       "      <td>343</td>\n",
       "    </tr>\n",
       "    <tr>\n",
       "      <th>48</th>\n",
       "      <td>Black Labrador Retriever</td>\n",
       "      <td>True</td>\n",
       "      <td>329</td>\n",
       "    </tr>\n",
       "    <tr>\n",
       "      <th>174</th>\n",
       "      <td>Great Pyrenees</td>\n",
       "      <td>True</td>\n",
       "      <td>311</td>\n",
       "    </tr>\n",
       "  </tbody>\n",
       "</table>\n",
       "</div>"
      ],
      "text/plain": [
       "                          breeds.primary  breeds.mixed  count\n",
       "202                   Labrador Retriever          True   1299\n",
       "225                          Mixed Breed         False    809\n",
       "328                              Terrier          True    778\n",
       "182                                Hound          True    767\n",
       "98                             Chihuahua          True    624\n",
       "159                  German Shepherd Dog          True    623\n",
       "254                     Pit Bull Terrier          True    619\n",
       "36                                Beagle          True    581\n",
       "302                             Shepherd          True    527\n",
       "29                   Australian Shepherd          True    465\n",
       "64                                 Boxer          True    436\n",
       "226                          Mixed Breed          True    435\n",
       "97                             Chihuahua         False    404\n",
       "25   Australian Cattle Dog / Blue Heeler          True    400\n",
       "158                  German Shepherd Dog         False    384\n",
       "58                         Border Collie          True    373\n",
       "253                     Pit Bull Terrier         False    344\n",
       "184                                Husky          True    343\n",
       "48              Black Labrador Retriever          True    329\n",
       "174                       Great Pyrenees          True    311"
      ]
     },
     "execution_count": 39,
     "metadata": {},
     "output_type": "execute_result"
    }
   ],
   "source": [
    "top_20 = dogs.groupby(['breeds.primary', 'breeds.mixed'])['id'].count().reset_index(name='count').sort_values('count', ascending=False).head(20)\n",
    "top_20"
   ]
  },
  {
   "cell_type": "code",
   "execution_count": null,
   "id": "0ea8590b",
   "metadata": {},
   "outputs": [],
   "source": []
  }
 ],
 "metadata": {
  "kernelspec": {
   "display_name": "Python 3 (ipykernel)",
   "language": "python",
   "name": "python3"
  },
  "language_info": {
   "codemirror_mode": {
    "name": "ipython",
    "version": 3
   },
   "file_extension": ".py",
   "mimetype": "text/x-python",
   "name": "python",
   "nbconvert_exporter": "python",
   "pygments_lexer": "ipython3",
   "version": "3.11.5"
  }
 },
 "nbformat": 4,
 "nbformat_minor": 5
}
