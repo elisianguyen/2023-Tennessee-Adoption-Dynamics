{
 "cells": [
  {
   "cell_type": "code",
   "execution_count": 2,
   "id": "b77e0108",
   "metadata": {},
   "outputs": [],
   "source": [
    "import requests\n",
    "import pandas as pd\n",
    "import matplotlib.pyplot as plt\n",
    "import time\n",
    "import seaborn as sns\n",
    "import numpy as np\n",
    "\n",
    "%matplotlib inline\n",
    "pd.set_option('display.max_columns', None)"
   ]
  },
  {
   "cell_type": "code",
   "execution_count": 3,
   "id": "da3bb0a8",
   "metadata": {},
   "outputs": [
    {
     "name": "stderr",
     "output_type": "stream",
     "text": [
      "C:\\Users\\Max-X1\\AppData\\Local\\Temp\\ipykernel_2076\\3667737777.py:1: DtypeWarning: Columns (17,18,22,23,25,26) have mixed types. Specify dtype option on import or set low_memory=False.\n",
      "  df = pd.read_csv('..//data/cleaned_pets.csv')\n"
     ]
    }
   ],
   "source": [
    "df = pd.read_csv('..//data/cleaned_pets.csv')"
   ]
  },
  {
   "cell_type": "code",
   "execution_count": 4,
   "id": "e68876a3",
   "metadata": {
    "scrolled": true
   },
   "outputs": [
    {
     "data": {
      "text/plain": [
       "(34009, 42)"
      ]
     },
     "execution_count": 4,
     "metadata": {},
     "output_type": "execute_result"
    }
   ],
   "source": [
    "df.shape"
   ]
  },
  {
   "cell_type": "code",
   "execution_count": 5,
   "id": "88db3708",
   "metadata": {},
   "outputs": [
    {
     "name": "stdout",
     "output_type": "stream",
     "text": [
      "<class 'pandas.core.frame.DataFrame'>\n",
      "RangeIndex: 34009 entries, 0 to 34008\n",
      "Data columns (total 42 columns):\n",
      " #   Column                      Non-Null Count  Dtype  \n",
      "---  ------                      --------------  -----  \n",
      " 0   id                          34008 non-null  float64\n",
      " 1   organization_id             34008 non-null  object \n",
      " 2   url                         34008 non-null  object \n",
      " 3   type                        34008 non-null  object \n",
      " 4   species                     34008 non-null  object \n",
      " 5   age                         34008 non-null  object \n",
      " 6   gender                      34008 non-null  object \n",
      " 7   size                        34008 non-null  object \n",
      " 8   coat                        13599 non-null  object \n",
      " 9   tags                        12221 non-null  object \n",
      " 10  name                        34008 non-null  object \n",
      " 11  description                 19495 non-null  object \n",
      " 12  status                      34008 non-null  object \n",
      " 13  status_changed_at           34008 non-null  object \n",
      " 14  published_at                34008 non-null  object \n",
      " 15  breeds.primary              32882 non-null  object \n",
      " 16  breeds.secondary            8193 non-null   object \n",
      " 17  breeds.mixed                34008 non-null  object \n",
      " 18  breeds.unknown              34008 non-null  object \n",
      " 19  colors.primary              15014 non-null  object \n",
      " 20  colors.secondary            5573 non-null   object \n",
      " 21  colors.tertiary             716 non-null    object \n",
      " 22  attributes.spayed_neutered  34008 non-null  object \n",
      " 23  attributes.house_trained    34008 non-null  object \n",
      " 24  attributes.declawed         14116 non-null  float64\n",
      " 25  attributes.special_needs    34008 non-null  object \n",
      " 26  attributes.shots_current    34008 non-null  object \n",
      " 27  environment.children        11390 non-null  object \n",
      " 28  environment.dogs            12410 non-null  object \n",
      " 29  environment.cats            10485 non-null  object \n",
      " 30  contact.address.city        34008 non-null  object \n",
      " 31  contact.address.state       34008 non-null  object \n",
      " 32  contact.address.postcode    34008 non-null  float64\n",
      " 33  published_date              34008 non-null  object \n",
      " 34  status_change_date          34008 non-null  object \n",
      " 35  adoption_time               34008 non-null  float64\n",
      " 36  month_published             34008 non-null  float64\n",
      " 37  day_published               34008 non-null  float64\n",
      " 38  year_published              34008 non-null  float64\n",
      " 39  month_status_change         34008 non-null  float64\n",
      " 40  day_status_change           34008 non-null  float64\n",
      " 41  year_status_change          34008 non-null  float64\n",
      "dtypes: float64(10), object(32)\n",
      "memory usage: 10.9+ MB\n"
     ]
    }
   ],
   "source": [
    "df.info()"
   ]
  },
  {
   "cell_type": "code",
   "execution_count": 6,
   "id": "d9a6bcbc",
   "metadata": {},
   "outputs": [],
   "source": [
    "# Convert to datetime\n",
    "df['published_at'] = pd.to_datetime(df['published_at'])\n",
    "df['status_changed_at'] = pd.to_datetime(df['status_changed_at'])\n",
    "df['published_date'] = pd.to_datetime(df['published_date'])\n",
    "df['status_change_date'] = pd.to_datetime(df['status_change_date'])"
   ]
  },
  {
   "cell_type": "code",
   "execution_count": 7,
   "id": "d48d4d7e",
   "metadata": {},
   "outputs": [],
   "source": [
    "# Define function to switch dtypes to string\n",
    "def string_clean(column):\n",
    "    x = df[column].astype('string')\n",
    "    return x\n",
    "\n",
    "# Switch objects to strings\n",
    "for column in df.columns:\n",
    "    if df[column].dtype == 'object':\n",
    "        df[column] = string_clean(column)"
   ]
  },
  {
   "cell_type": "code",
   "execution_count": 8,
   "id": "240556e6",
   "metadata": {},
   "outputs": [],
   "source": [
    "#df.info()"
   ]
  },
  {
   "cell_type": "code",
   "execution_count": 9,
   "id": "17994637",
   "metadata": {},
   "outputs": [],
   "source": [
    "# Create adopted and adoptable dataframes\n",
    "adopted = df[(df['year_status_change'] == 2023) & (df['status'] == 'adopted')]\n",
    "adoptable = df[(df['year_status_change'] == 2023) & (df['status'] == 'adoptable')]"
   ]
  },
  {
   "cell_type": "markdown",
   "id": "914800ea",
   "metadata": {},
   "source": [
    "# All Animals Analysis"
   ]
  },
  {
   "cell_type": "markdown",
   "id": "6a8b13d9",
   "metadata": {},
   "source": [
    "### Overall understanding of adoptions in TN"
   ]
  },
  {
   "cell_type": "markdown",
   "id": "6dc332c3",
   "metadata": {},
   "source": [
    "#### How many animals were placed for adoption in 2023?"
   ]
  },
  {
   "cell_type": "code",
   "execution_count": 9,
   "id": "bb6960fd",
   "metadata": {},
   "outputs": [
    {
     "name": "stdout",
     "output_type": "stream",
     "text": [
      "Number of pets placed for adoption in 2023:  34008\n"
     ]
    }
   ],
   "source": [
    "# Subset data for 2023 \n",
    "published = df[df['year_published'] == 2023]\n",
    "published = published['id'].count()\n",
    "\n",
    "print('Number of pets placed for adoption in 2023: ', published)"
   ]
  },
  {
   "cell_type": "markdown",
   "id": "388279b5",
   "metadata": {},
   "source": [
    "##### How animals many were adopted? "
   ]
  },
  {
   "cell_type": "code",
   "execution_count": 10,
   "id": "a55afd68",
   "metadata": {},
   "outputs": [
    {
     "name": "stdout",
     "output_type": "stream",
     "text": [
      "Number of pets adopted in 2023: 29735\n"
     ]
    }
   ],
   "source": [
    "adopted = df[(df['year_status_change'] == 2023) & (df['status'] == 'adopted')]\n",
    "adopted = adopted['id'].count()\n",
    "\n",
    "print('Number of pets adopted in 2023:', adopted)"
   ]
  },
  {
   "cell_type": "markdown",
   "id": "db2b1740",
   "metadata": {},
   "source": [
    "##### What % of animals were adopted? What % of animals were NOT adopted?"
   ]
  },
  {
   "cell_type": "code",
   "execution_count": 11,
   "id": "141eb99f",
   "metadata": {},
   "outputs": [
    {
     "name": "stdout",
     "output_type": "stream",
     "text": [
      "% of pets adopted: 87.4 %\n",
      "% of pets not adopted in 2023: 12.6 %\n"
     ]
    }
   ],
   "source": [
    "adopted_perc = round((adopted / published) * 100, 1)\n",
    "print('% of pets adopted:', adopted_perc, '%')\n",
    "\n",
    "not_adopted_perc = round(((published - adopted) / published) * 100, 1)\n",
    "print('% of pets not adopted in 2023:', not_adopted_perc, '%')"
   ]
  },
  {
   "cell_type": "markdown",
   "id": "b24f84c3",
   "metadata": {},
   "source": [
    "### Overview of types of animals & adoption rates"
   ]
  },
  {
   "cell_type": "markdown",
   "id": "6b4473e7",
   "metadata": {},
   "source": [
    "##### What is the distribution of animals on petfinder?"
   ]
  },
  {
   "cell_type": "code",
   "execution_count": 12,
   "id": "5c252556",
   "metadata": {},
   "outputs": [
    {
     "data": {
      "text/html": [
       "<div>\n",
       "<style scoped>\n",
       "    .dataframe tbody tr th:only-of-type {\n",
       "        vertical-align: middle;\n",
       "    }\n",
       "\n",
       "    .dataframe tbody tr th {\n",
       "        vertical-align: top;\n",
       "    }\n",
       "\n",
       "    .dataframe thead th {\n",
       "        text-align: right;\n",
       "    }\n",
       "</style>\n",
       "<table border=\"1\" class=\"dataframe\">\n",
       "  <thead>\n",
       "    <tr style=\"text-align: right;\">\n",
       "      <th></th>\n",
       "      <th>species</th>\n",
       "      <th>count published</th>\n",
       "      <th>percentage %</th>\n",
       "    </tr>\n",
       "  </thead>\n",
       "  <tbody>\n",
       "    <tr>\n",
       "      <th>1</th>\n",
       "      <td>Dog</td>\n",
       "      <td>19676</td>\n",
       "      <td>57.857</td>\n",
       "    </tr>\n",
       "    <tr>\n",
       "      <th>0</th>\n",
       "      <td>Cat</td>\n",
       "      <td>14116</td>\n",
       "      <td>41.508</td>\n",
       "    </tr>\n",
       "    <tr>\n",
       "      <th>11</th>\n",
       "      <td>Rabbit</td>\n",
       "      <td>108</td>\n",
       "      <td>0.318</td>\n",
       "    </tr>\n",
       "    <tr>\n",
       "      <th>3</th>\n",
       "      <td>Guinea Pig</td>\n",
       "      <td>57</td>\n",
       "      <td>0.168</td>\n",
       "    </tr>\n",
       "    <tr>\n",
       "      <th>10</th>\n",
       "      <td>Pot Bellied</td>\n",
       "      <td>18</td>\n",
       "      <td>0.053</td>\n",
       "    </tr>\n",
       "    <tr>\n",
       "      <th>6</th>\n",
       "      <td>Horse</td>\n",
       "      <td>12</td>\n",
       "      <td>0.035</td>\n",
       "    </tr>\n",
       "    <tr>\n",
       "      <th>9</th>\n",
       "      <td>Pig</td>\n",
       "      <td>5</td>\n",
       "      <td>0.015</td>\n",
       "    </tr>\n",
       "    <tr>\n",
       "      <th>2</th>\n",
       "      <td>Goat</td>\n",
       "      <td>4</td>\n",
       "      <td>0.012</td>\n",
       "    </tr>\n",
       "    <tr>\n",
       "      <th>7</th>\n",
       "      <td>Miniature Horse</td>\n",
       "      <td>3</td>\n",
       "      <td>0.009</td>\n",
       "    </tr>\n",
       "    <tr>\n",
       "      <th>4</th>\n",
       "      <td>Hamster</td>\n",
       "      <td>2</td>\n",
       "      <td>0.006</td>\n",
       "    </tr>\n",
       "    <tr>\n",
       "      <th>5</th>\n",
       "      <td>Hedgehog</td>\n",
       "      <td>2</td>\n",
       "      <td>0.006</td>\n",
       "    </tr>\n",
       "    <tr>\n",
       "      <th>12</th>\n",
       "      <td>Rat</td>\n",
       "      <td>2</td>\n",
       "      <td>0.006</td>\n",
       "    </tr>\n",
       "    <tr>\n",
       "      <th>8</th>\n",
       "      <td>Mule</td>\n",
       "      <td>1</td>\n",
       "      <td>0.003</td>\n",
       "    </tr>\n",
       "    <tr>\n",
       "      <th>13</th>\n",
       "      <td>Reptile</td>\n",
       "      <td>1</td>\n",
       "      <td>0.003</td>\n",
       "    </tr>\n",
       "    <tr>\n",
       "      <th>14</th>\n",
       "      <td>Snake</td>\n",
       "      <td>1</td>\n",
       "      <td>0.003</td>\n",
       "    </tr>\n",
       "  </tbody>\n",
       "</table>\n",
       "</div>"
      ],
      "text/plain": [
       "            species  count published  percentage %\n",
       "1               Dog            19676        57.857\n",
       "0               Cat            14116        41.508\n",
       "11           Rabbit              108         0.318\n",
       "3        Guinea Pig               57         0.168\n",
       "10      Pot Bellied               18         0.053\n",
       "6             Horse               12         0.035\n",
       "9               Pig                5         0.015\n",
       "2              Goat                4         0.012\n",
       "7   Miniature Horse                3         0.009\n",
       "4           Hamster                2         0.006\n",
       "5          Hedgehog                2         0.006\n",
       "12              Rat                2         0.006\n",
       "8              Mule                1         0.003\n",
       "13          Reptile                1         0.003\n",
       "14            Snake                1         0.003"
      ]
     },
     "execution_count": 12,
     "metadata": {},
     "output_type": "execute_result"
    }
   ],
   "source": [
    "# Group ids by species and count\n",
    "published_species = df.groupby('species')['id'].count().reset_index(name='count published').sort_values('count published', ascending=False)\n",
    "published_species['percentage %'] = round((published_species['count published'] / df['id'].count()) * 100, 3)\n",
    "\n",
    "published_species"
   ]
  },
  {
   "cell_type": "markdown",
   "id": "acf83800",
   "metadata": {},
   "source": [
    "##### Visualize"
   ]
  },
  {
   "cell_type": "code",
   "execution_count": null,
   "id": "73fa6ec1",
   "metadata": {},
   "outputs": [],
   "source": []
  },
  {
   "cell_type": "markdown",
   "id": "f6fea04e",
   "metadata": {},
   "source": [
    "##### How many pets of each species were adopted in 2023? What is the distribution of species?"
   ]
  },
  {
   "cell_type": "code",
   "execution_count": 14,
   "id": "5da9c8a5",
   "metadata": {},
   "outputs": [
    {
     "ename": "AttributeError",
     "evalue": "'numpy.int64' object has no attribute 'groupby'",
     "output_type": "error",
     "traceback": [
      "\u001b[1;31m---------------------------------------------------------------------------\u001b[0m",
      "\u001b[1;31mAttributeError\u001b[0m                            Traceback (most recent call last)",
      "Cell \u001b[1;32mIn[14], line 1\u001b[0m\n\u001b[1;32m----> 1\u001b[0m adopted_species \u001b[38;5;241m=\u001b[39m adopted\u001b[38;5;241m.\u001b[39mgroupby(\u001b[38;5;124m'\u001b[39m\u001b[38;5;124mspecies\u001b[39m\u001b[38;5;124m'\u001b[39m)[\u001b[38;5;124m'\u001b[39m\u001b[38;5;124mid\u001b[39m\u001b[38;5;124m'\u001b[39m]\u001b[38;5;241m.\u001b[39mcount()\u001b[38;5;241m.\u001b[39mreset_index(name\u001b[38;5;241m=\u001b[39m\u001b[38;5;124m'\u001b[39m\u001b[38;5;124mcount adopted\u001b[39m\u001b[38;5;124m'\u001b[39m)\u001b[38;5;241m.\u001b[39msort_values(\u001b[38;5;124m'\u001b[39m\u001b[38;5;124mcount adopted\u001b[39m\u001b[38;5;124m'\u001b[39m, ascending\u001b[38;5;241m=\u001b[39m\u001b[38;5;28;01mFalse\u001b[39;00m)\n\u001b[0;32m      2\u001b[0m adopted_species[\u001b[38;5;124m'\u001b[39m\u001b[38;5;124mpercentage \u001b[39m\u001b[38;5;124m%\u001b[39m\u001b[38;5;124m'\u001b[39m] \u001b[38;5;241m=\u001b[39m \u001b[38;5;28mround\u001b[39m((adopted_species[\u001b[38;5;124m'\u001b[39m\u001b[38;5;124mcount adopted\u001b[39m\u001b[38;5;124m'\u001b[39m] \u001b[38;5;241m/\u001b[39m adopted_species[\u001b[38;5;124m'\u001b[39m\u001b[38;5;124mcount adopted\u001b[39m\u001b[38;5;124m'\u001b[39m]\u001b[38;5;241m.\u001b[39msum()) \u001b[38;5;241m*\u001b[39m \u001b[38;5;241m100\u001b[39m, \u001b[38;5;241m3\u001b[39m)\n\u001b[0;32m      3\u001b[0m adopted_species\n",
      "\u001b[1;31mAttributeError\u001b[0m: 'numpy.int64' object has no attribute 'groupby'"
     ]
    }
   ],
   "source": [
    "adopted_species = adopted.groupby('species')['id'].count().reset_index(name='count adopted').sort_values('count adopted', ascending=False)\n",
    "adopted_species['percentage %'] = round((adopted_species['count adopted'] / adopted_species['count adopted'].sum()) * 100, 3)\n",
    "adopted_species"
   ]
  },
  {
   "cell_type": "markdown",
   "id": "614600a5",
   "metadata": {},
   "source": [
    "#### Visualize"
   ]
  },
  {
   "cell_type": "code",
   "execution_count": null,
   "id": "332d42cd",
   "metadata": {},
   "outputs": [],
   "source": []
  },
  {
   "cell_type": "markdown",
   "id": "29224d20",
   "metadata": {},
   "source": [
    "##### What is the adoption rate by species? "
   ]
  },
  {
   "cell_type": "code",
   "execution_count": 15,
   "id": "a3ad0f8a",
   "metadata": {},
   "outputs": [
    {
     "ename": "NameError",
     "evalue": "name 'adopted_species' is not defined",
     "output_type": "error",
     "traceback": [
      "\u001b[1;31m---------------------------------------------------------------------------\u001b[0m",
      "\u001b[1;31mNameError\u001b[0m                                 Traceback (most recent call last)",
      "Cell \u001b[1;32mIn[15], line 2\u001b[0m\n\u001b[0;32m      1\u001b[0m \u001b[38;5;66;03m# Outer join published species and adopted species\u001b[39;00m\n\u001b[1;32m----> 2\u001b[0m adoption_rate \u001b[38;5;241m=\u001b[39m pd\u001b[38;5;241m.\u001b[39mmerge(published_species, adopted_species, on\u001b[38;5;241m=\u001b[39m\u001b[38;5;124m'\u001b[39m\u001b[38;5;124mspecies\u001b[39m\u001b[38;5;124m'\u001b[39m, how\u001b[38;5;241m=\u001b[39m\u001b[38;5;124m'\u001b[39m\u001b[38;5;124mouter\u001b[39m\u001b[38;5;124m'\u001b[39m)\n\u001b[0;32m      4\u001b[0m \u001b[38;5;66;03m# Fill NaN values with zero\u001b[39;00m\n\u001b[0;32m      5\u001b[0m adoption_rate \u001b[38;5;241m=\u001b[39m adoption_rate\u001b[38;5;241m.\u001b[39mfillna(\u001b[38;5;241m0\u001b[39m)\n",
      "\u001b[1;31mNameError\u001b[0m: name 'adopted_species' is not defined"
     ]
    }
   ],
   "source": [
    "# Outer join published species and adopted species\n",
    "adoption_rate = pd.merge(published_species, adopted_species, on='species', how='outer')\n",
    "\n",
    "# Fill NaN values with zero\n",
    "adoption_rate = adoption_rate.fillna(0)\n",
    "\n",
    "# Convert 'count adopted' column to integer\n",
    "adoption_rate['count adopted'] = adoption_rate['count adopted'].astype(int)\n",
    "\n",
    "# Calculate the adoption rate %\n",
    "adoption_rate['adoption rate %'] = round((adoption_rate['count adopted'] / adoption_rate['count published']) * 100, 2)\n",
    "adoption_rate.sort_values('adoption rate %', ascending=False)"
   ]
  },
  {
   "cell_type": "markdown",
   "id": "0aecdfe4",
   "metadata": {},
   "source": [
    "##### What is the average adoption time (in days) per species? Which species has the longest adoption time?"
   ]
  },
  {
   "cell_type": "code",
   "execution_count": null,
   "id": "3a18c210",
   "metadata": {},
   "outputs": [],
   "source": [
    "# Calculate average adoption time by species\n",
    "avg_time = adopted.groupby('species')['adoption_time'].mean().reset_index(name='avg_adoption_time').sort_values('avg_adoption_time', ascending=False)\n",
    "\n",
    "print('Answer: Rabbits:', round(avg_time['avg_adoption_time'].max(), 2), 'days')\n",
    "avg_time"
   ]
  },
  {
   "cell_type": "markdown",
   "id": "9b35d800",
   "metadata": {},
   "source": [
    "### Overview of age"
   ]
  },
  {
   "cell_type": "markdown",
   "id": "3e3ae543",
   "metadata": {},
   "source": [
    "##### What is the adoption rate by age? What age group has the highest and lowest adoption rate? "
   ]
  },
  {
   "cell_type": "markdown",
   "id": "2ea48d31",
   "metadata": {},
   "source": [
    "Answer: Highest - Baby, Lowest - Seniors "
   ]
  },
  {
   "cell_type": "code",
   "execution_count": 10,
   "id": "f7d463a1",
   "metadata": {},
   "outputs": [
    {
     "data": {
      "text/html": [
       "<div>\n",
       "<style scoped>\n",
       "    .dataframe tbody tr th:only-of-type {\n",
       "        vertical-align: middle;\n",
       "    }\n",
       "\n",
       "    .dataframe tbody tr th {\n",
       "        vertical-align: top;\n",
       "    }\n",
       "\n",
       "    .dataframe thead th {\n",
       "        text-align: right;\n",
       "    }\n",
       "</style>\n",
       "<table border=\"1\" class=\"dataframe\">\n",
       "  <thead>\n",
       "    <tr style=\"text-align: right;\">\n",
       "      <th></th>\n",
       "      <th>age</th>\n",
       "      <th>count published</th>\n",
       "      <th>count adopted</th>\n",
       "      <th>adoption rate %</th>\n",
       "    </tr>\n",
       "  </thead>\n",
       "  <tbody>\n",
       "    <tr>\n",
       "      <th>1</th>\n",
       "      <td>Baby</td>\n",
       "      <td>8565</td>\n",
       "      <td>7668</td>\n",
       "      <td>89.53</td>\n",
       "    </tr>\n",
       "    <tr>\n",
       "      <th>0</th>\n",
       "      <td>Adult</td>\n",
       "      <td>16477</td>\n",
       "      <td>14741</td>\n",
       "      <td>89.46</td>\n",
       "    </tr>\n",
       "    <tr>\n",
       "      <th>2</th>\n",
       "      <td>Senior</td>\n",
       "      <td>1479</td>\n",
       "      <td>1313</td>\n",
       "      <td>88.78</td>\n",
       "    </tr>\n",
       "    <tr>\n",
       "      <th>3</th>\n",
       "      <td>Young</td>\n",
       "      <td>7487</td>\n",
       "      <td>6013</td>\n",
       "      <td>80.31</td>\n",
       "    </tr>\n",
       "  </tbody>\n",
       "</table>\n",
       "</div>"
      ],
      "text/plain": [
       "      age  count published  count adopted  adoption rate %\n",
       "1    Baby             8565           7668            89.53\n",
       "0   Adult            16477          14741            89.46\n",
       "2  Senior             1479           1313            88.78\n",
       "3   Young             7487           6013            80.31"
      ]
     },
     "execution_count": 10,
     "metadata": {},
     "output_type": "execute_result"
    }
   ],
   "source": [
    "# Group id by age and count for published and adopted dfs\n",
    "pub_age_count = df.groupby('age')['id'].count().reset_index(name='count published')\n",
    "adopted_age_count = adopted.groupby('age')['id'].count().reset_index(name='count adopted')\n",
    "\n",
    "# Merge two dfs together\n",
    "age_adoption_rate = pd.merge(pub_age_count, adopted_age_count, on='age')\n",
    "\n",
    "# Calculate adoption rate\n",
    "age_adoption_rate['adoption rate %'] = round((age_adoption_rate['count adopted'] / age_adoption_rate['count published']) * 100, 2)\n",
    "\n",
    "age_adoption_rate.sort_values('adoption rate %', ascending=False)"
   ]
  },
  {
   "cell_type": "markdown",
   "id": "f4fa7ad2",
   "metadata": {},
   "source": [
    "# City Analysis"
   ]
  },
  {
   "cell_type": "code",
   "execution_count": null,
   "id": "705c0094",
   "metadata": {},
   "outputs": [],
   "source": [
    "# Group id by city and count for published and adopted dfs\n",
    "pub_city_count = df.groupby('contact.address.city')['id'].count().reset_index(name='count published')\n",
    "adopted_city_count = adopted.groupby('contact.address.city')['id'].count().reset_index(name='count adopted')\n",
    "\n",
    "# Merge two dfs together\n",
    "city_adoption_rate = pd.merge(pub_city_count, adopted_city_count, on='contact.address.city')\n",
    "\n",
    "# Calculate adoption rate\n",
    "city_adoption_rate['adoption rate %'] = round((city_adoption_rate['count adopted'] / city_adoption_rate['count published']) * 100, 2)\n",
    "\n",
    "city_adoption_rate"
   ]
  },
  {
   "cell_type": "markdown",
   "id": "767ff353",
   "metadata": {},
   "source": [
    "#### Which cities (out of the top 10) had the most pets available for adoption? Which city in the top 10 had the highest adoption rate?"
   ]
  },
  {
   "cell_type": "code",
   "execution_count": null,
   "id": "7acf99cd",
   "metadata": {},
   "outputs": [],
   "source": [
    "top_10 = city_adoption_rate.sort_values('count published', ascending=False).head(10)\n",
    "top_10\n",
    "\n",
    "# Answer: Greenville had the highest adoption rate"
   ]
  },
  {
   "cell_type": "markdown",
   "id": "8f72fc62",
   "metadata": {},
   "source": [
    "# Dog Analysis"
   ]
  },
  {
   "cell_type": "code",
   "execution_count": null,
   "id": "cc146d89",
   "metadata": {
    "scrolled": false
   },
   "outputs": [],
   "source": [
    "dogs = df[df['species'] == 'Dog']\n",
    "print(dogs.shape)\n",
    "dogs.groupby('type')['id'].count()"
   ]
  },
  {
   "cell_type": "markdown",
   "id": "fb1aaea4",
   "metadata": {},
   "source": [
    "#### What is the overall adoption rate for dogs?"
   ]
  },
  {
   "cell_type": "code",
   "execution_count": null,
   "id": "3dc5cbc4",
   "metadata": {},
   "outputs": [],
   "source": []
  },
  {
   "cell_type": "code",
   "execution_count": null,
   "id": "529e9eeb",
   "metadata": {},
   "outputs": [],
   "source": []
  },
  {
   "cell_type": "code",
   "execution_count": null,
   "id": "b17c6bb4",
   "metadata": {},
   "outputs": [],
   "source": []
  },
  {
   "cell_type": "markdown",
   "id": "b5bda1ae",
   "metadata": {},
   "source": [
    "#### How many full breeds vs mixed breeds were listed for adoption? What is the adoption rates for each type?"
   ]
  },
  {
   "cell_type": "code",
   "execution_count": null,
   "id": "080314bb",
   "metadata": {},
   "outputs": [],
   "source": [
    "full = dogs[dogs['breeds.mixed'] == False]\n",
    "mixed = dogs[dogs['breeds.mixed'] == True]\n",
    "\n",
    "print('Full Breed Dogs: ', full['id'].count())\n",
    "print('Mixed Breed Dogs: ', mixed['id'].count())\n",
    "\n",
    "# add adoption rate"
   ]
  },
  {
   "cell_type": "markdown",
   "id": "d238a93c",
   "metadata": {},
   "source": [
    "#### What are the top 20 breeds listed for adoption? Are they full or mixed breeds?"
   ]
  },
  {
   "cell_type": "code",
   "execution_count": null,
   "id": "cd8f16c0",
   "metadata": {},
   "outputs": [],
   "source": [
    "# Group dogs df by primary breed and mixed breed columns and count ids\n",
    "top_20 = dogs.groupby(['breeds.primary', 'breeds.mixed'])['id'].count().reset_index(name='count').sort_values('count', ascending=False).head(20)\n",
    "\n",
    "top_20"
   ]
  },
  {
   "cell_type": "markdown",
   "id": "e11eea86",
   "metadata": {},
   "source": [
    "#### What are the top 20 full breeds and top 20 mixed breeds (include secondary breed)?"
   ]
  },
  {
   "cell_type": "code",
   "execution_count": null,
   "id": "93d7e28c",
   "metadata": {},
   "outputs": [],
   "source": [
    "# Top 20 full breeds\n",
    "\n",
    "# Group ids by primary breed\n",
    "top_20_fb = full.groupby('breeds.primary')['id'].count().reset_index(name='count').sort_values('count', ascending=False).head(21)\n",
    "\n",
    "# Drop index 100 because it is not relevant\n",
    "#top_20_fb = top_20_fb.drop(100)\n",
    "top_20_fb"
   ]
  },
  {
   "cell_type": "code",
   "execution_count": null,
   "id": "9275f44c",
   "metadata": {},
   "outputs": [],
   "source": []
  }
 ],
 "metadata": {
  "kernelspec": {
   "display_name": "Python 3 (ipykernel)",
   "language": "python",
   "name": "python3"
  },
  "language_info": {
   "codemirror_mode": {
    "name": "ipython",
    "version": 3
   },
   "file_extension": ".py",
   "mimetype": "text/x-python",
   "name": "python",
   "nbconvert_exporter": "python",
   "pygments_lexer": "ipython3",
   "version": "3.11.5"
  }
 },
 "nbformat": 4,
 "nbformat_minor": 5
}
