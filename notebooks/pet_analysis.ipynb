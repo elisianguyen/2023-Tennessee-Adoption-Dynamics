{
 "cells": [
  {
   "cell_type": "code",
   "execution_count": 1,
   "id": "d1051bac",
   "metadata": {},
   "outputs": [],
   "source": [
    "import requests\n",
    "import pandas as pd\n",
    "import matplotlib.pyplot as plt\n",
    "import time\n",
    "import seaborn as sns\n",
    "import numpy as np\n",
    "\n",
    "%matplotlib inline\n",
    "pd.set_option('display.max_columns', None)"
   ]
  },
  {
   "cell_type": "code",
   "execution_count": 2,
   "id": "7b9147ad",
   "metadata": {},
   "outputs": [
    {
     "name": "stderr",
     "output_type": "stream",
     "text": [
      "C:\\Users\\Max-X1\\AppData\\Local\\Temp\\ipykernel_38888\\3667737777.py:1: DtypeWarning: Columns (17,18,22,23,25,26) have mixed types. Specify dtype option on import or set low_memory=False.\n",
      "  df = pd.read_csv('..//data/cleaned_pets.csv')\n"
     ]
    }
   ],
   "source": [
    "df = pd.read_csv('..//data/cleaned_pets.csv')"
   ]
  },
  {
   "cell_type": "code",
   "execution_count": 3,
   "id": "1c4cdb31",
   "metadata": {},
   "outputs": [
    {
     "data": {
      "text/plain": [
       "(34009, 42)"
      ]
     },
     "execution_count": 3,
     "metadata": {},
     "output_type": "execute_result"
    }
   ],
   "source": [
    "df.shape"
   ]
  },
  {
   "cell_type": "markdown",
   "id": "7297fa35",
   "metadata": {},
   "source": [
    "Calculate adoption time"
   ]
  },
  {
   "cell_type": "code",
   "execution_count": null,
   "id": "bdf305e3",
   "metadata": {},
   "outputs": [],
   "source": [
    "# Convert to datetime format\n",
    "df['published_date'] = pd.to_datetime(df['published_date'], format='%m/%d/%y')\n",
    "df['status_change_date'] = pd.to_datetime(df['status_change_date'], format='%m/%d/%y')\n",
    "\n",
    "# Calculate adoption time (time available for adoption)\n",
    "df['adoption_time'] = (df['status_change_date'] - df['published_date']).dt.days"
   ]
  },
  {
   "cell_type": "code",
   "execution_count": null,
   "id": "a6d13e49",
   "metadata": {},
   "outputs": [],
   "source": [
    "# Create adopted and adoptable dataframes\n",
    "adopted = df[(df['year_status_change'] == 2023) & (df['status'] == 'adopted')]\n",
    "adoptable = df[(df['year_status_change'] == 2023) & (df['status'] == 'adoptable')]"
   ]
  },
  {
   "cell_type": "markdown",
   "id": "4addfa61",
   "metadata": {},
   "source": [
    "# All Pets Analysis"
   ]
  },
  {
   "cell_type": "markdown",
   "id": "dfaadd38",
   "metadata": {},
   "source": [
    "How many pets were published/put up for adoption in 2023? "
   ]
  },
  {
   "cell_type": "code",
   "execution_count": null,
   "id": "a215475c",
   "metadata": {},
   "outputs": [],
   "source": [
    "# Subset data for 2023 \n",
    "published = df[df['year_published'] == 2023]\n",
    "\n",
    "print('Number of pets placed for adoption: ', published['id'].count())"
   ]
  },
  {
   "cell_type": "markdown",
   "id": "2f8908ff",
   "metadata": {},
   "source": [
    "How many pets were adopted in 2023?"
   ]
  },
  {
   "cell_type": "code",
   "execution_count": null,
   "id": "0bd5edfc",
   "metadata": {},
   "outputs": [],
   "source": [
    "# Subset data by year 2023 and status = adopted \n",
    "adopted = df[(df['year_status_change'] == 2023) & (df['status'] == 'adopted')]\n",
    "\n",
    "print('Number of pets adopted in 2023: ', adopted['id'].count())"
   ]
  },
  {
   "cell_type": "markdown",
   "id": "d4a68c95",
   "metadata": {},
   "source": [
    "How many pets were published but NOT adopted in 2023? "
   ]
  },
  {
   "cell_type": "code",
   "execution_count": null,
   "id": "766b647d",
   "metadata": {},
   "outputs": [],
   "source": [
    "# Subset year status was changed to not equal to 2023\n",
    "available = df[df['year_status_change'] != 2023]\n",
    "\n",
    "print('Pets published but not adopted in 2023: ', available['id'].count())"
   ]
  },
  {
   "cell_type": "code",
   "execution_count": null,
   "id": "a54d71e9",
   "metadata": {},
   "outputs": [],
   "source": [
    "# Check \n",
    "#available.groupby('year_status_change')['id'].count()"
   ]
  },
  {
   "cell_type": "markdown",
   "id": "2a2f8237",
   "metadata": {},
   "source": [
    "How many pets of each species were placed for adoption in 2023?"
   ]
  },
  {
   "cell_type": "code",
   "execution_count": null,
   "id": "39c678c9",
   "metadata": {},
   "outputs": [],
   "source": [
    "# Group ids by species and count\n",
    "published_species = df.groupby('species')['id'].count().reset_index(name='count published').sort_values('count published', ascending=False)\n",
    "\n",
    "published_species"
   ]
  },
  {
   "cell_type": "markdown",
   "id": "dd061d3c",
   "metadata": {},
   "source": [
    "How many pets of each species were adopted in 2023?"
   ]
  },
  {
   "cell_type": "code",
   "execution_count": null,
   "id": "e545ad6b",
   "metadata": {},
   "outputs": [],
   "source": [
    "# Group adopted by species and count ids\n",
    "adopted_species = adopted.groupby('species')['id'].count().reset_index(name='count adopted').sort_values('count adopted', ascending=False)\n",
    "\n",
    "adopted_species"
   ]
  },
  {
   "cell_type": "markdown",
   "id": "b6313f34",
   "metadata": {},
   "source": [
    "What is the overall adoption rate for 2023?"
   ]
  },
  {
   "cell_type": "code",
   "execution_count": null,
   "id": "13983543",
   "metadata": {},
   "outputs": [],
   "source": [
    "# Calculate adoption rate by dividing number of adopted pets by total pets and multipy * 100 to get overall adoption rate\n",
    "adoption_rate = (adopted['id'].count() / df['id'].count()) * 100\n",
    "\n",
    "print('Overall Adoption Rate: ', round(adoption_rate, 2),'%')"
   ]
  },
  {
   "cell_type": "markdown",
   "id": "bb7da8a5",
   "metadata": {},
   "source": [
    "What is the adoption rate by species? "
   ]
  },
  {
   "cell_type": "code",
   "execution_count": null,
   "id": "1449dffb",
   "metadata": {},
   "outputs": [],
   "source": [
    "# Outer join published species and adopted species\n",
    "adoption_rate = pd.merge(published_species, adopted_species, on='species', how='outer')\n",
    "\n",
    "# Fill NaN values with zero\n",
    "adoption_rate = adoption_rate.fillna(0)\n",
    "\n",
    "# Convert 'count adopted' column to integer\n",
    "adoption_rate['count adopted'] = adoption_rate['count adopted'].astype(int)\n",
    "\n",
    "# Calculate the adoption rate %\n",
    "adoption_rate['adoption rate %'] = round((adoption_rate['count adopted'] / adoption_rate['count published']) * 100, 2)\n",
    "adoption_rate.sort_values('adoption rate %', ascending=False)"
   ]
  },
  {
   "cell_type": "markdown",
   "id": "a5ab8a5a",
   "metadata": {},
   "source": [
    "What is the adoption rate by age? What age group has the highest and lowest adoption rate? "
   ]
  },
  {
   "cell_type": "markdown",
   "id": "13071a67",
   "metadata": {},
   "source": [
    "Answer: Highest - Baby, Lowest - Seniors "
   ]
  },
  {
   "cell_type": "code",
   "execution_count": null,
   "id": "f41aff5c",
   "metadata": {},
   "outputs": [],
   "source": [
    "# Group id by age and count for published and adopted dfs\n",
    "pub_age_count = df.groupby('age')['id'].count().reset_index(name='count published')\n",
    "adopted_age_count = adopted.groupby('age')['id'].count().reset_index(name='count adopted')\n",
    "\n",
    "# Merge two dfs together\n",
    "age_adoption_rate = pd.merge(pub_age_count, adopted_age_count, on='age')\n",
    "\n",
    "# Calculate adoption rate\n",
    "age_adoption_rate['adoption rate %'] = round((adoption_rate['count adopted'] / adoption_rate['count published']) * 100, 2)\n",
    "\n",
    "age_adoption_rate.sort_values('adoption rate %', ascending=False)"
   ]
  },
  {
   "cell_type": "code",
   "execution_count": null,
   "id": "860ece73",
   "metadata": {},
   "outputs": [],
   "source": [
    "df.columns"
   ]
  },
  {
   "cell_type": "markdown",
   "id": "5f1f90ac",
   "metadata": {},
   "source": [
    "What is the adoption rate by month?"
   ]
  },
  {
   "cell_type": "code",
   "execution_count": null,
   "id": "1b6805c2",
   "metadata": {},
   "outputs": [],
   "source": [
    "# Create column for adopted months\n",
    "\n",
    "# Create a new column named 'adopted_month' and initialize all values to 0\n",
    "df['adopted_month'] = 0  \n",
    "\n",
    "# Loop through each row in the DataFrame and check for the following conditions\n",
    "# If true - update adopted_month column with month status was changed, if false - insert zero\n",
    "for index, row in df.iterrows():\n",
    "    if row['status'] == 'adopted' and row['year_status_change'] == 2023:\n",
    "        df.at[index, 'adopted_month'] = row['month_status_change']\n",
    "    else:\n",
    "        df.at[index, 'adopted_month'] = 0"
   ]
  },
  {
   "cell_type": "code",
   "execution_count": null,
   "id": "bdad1083",
   "metadata": {},
   "outputs": [],
   "source": []
  },
  {
   "cell_type": "markdown",
   "id": "02b4c4cf",
   "metadata": {},
   "source": [
    "What is the average adoption time (in days) per species? Which species has the longest adoption time?"
   ]
  },
  {
   "cell_type": "code",
   "execution_count": null,
   "id": "3cb83ac7",
   "metadata": {},
   "outputs": [],
   "source": [
    "# Calculate average adoption time by species\n",
    "avg_time = adopted.groupby('species')['adoption_time'].mean().reset_index(name='avg_adoption_time').sort_values('avg_adoption_time', ascending=False)\n",
    "\n",
    "print('Answer: Rabbits:', round(avg_time['avg_adoption_time'].max()), 'days')\n",
    "avg_time"
   ]
  },
  {
   "cell_type": "markdown",
   "id": "8c8974bf",
   "metadata": {},
   "source": [
    "What cities in TN are pets available in TN?"
   ]
  },
  {
   "cell_type": "code",
   "execution_count": null,
   "id": "50ebd674",
   "metadata": {},
   "outputs": [],
   "source": []
  },
  {
   "cell_type": "markdown",
   "id": "da0bf0f8",
   "metadata": {},
   "source": [
    "# Dog Analysis"
   ]
  },
  {
   "cell_type": "code",
   "execution_count": null,
   "id": "f0217f76",
   "metadata": {
    "scrolled": false
   },
   "outputs": [],
   "source": [
    "dogs = df[df['species'] == 'Dog']\n",
    "print(dogs.shape)\n",
    "dogs.groupby('type')['id'].count()"
   ]
  },
  {
   "cell_type": "markdown",
   "id": "6c899a44",
   "metadata": {},
   "source": [
    "How many full breeds vs mixed breeds were listed for adoption?"
   ]
  },
  {
   "cell_type": "code",
   "execution_count": null,
   "id": "fbde20fa",
   "metadata": {},
   "outputs": [],
   "source": [
    "full = dogs[dogs['breeds.mixed'] == False]\n",
    "mixed = dogs[dogs['breeds.mixed'] == True]\n",
    "\n",
    "print('Full Breed Dogs: ', full['id'].count())\n",
    "print('Mixed Breed Dogs: ', mixed['id'].count())"
   ]
  },
  {
   "cell_type": "markdown",
   "id": "c801e66f",
   "metadata": {},
   "source": [
    "What are the top 20 breeds listed for adoption? Are they full or mixed breeds?"
   ]
  },
  {
   "cell_type": "code",
   "execution_count": null,
   "id": "25c344f8",
   "metadata": {},
   "outputs": [],
   "source": [
    "# Group dogs df by primary breed and mixed breed columns and count ids\n",
    "top_20 = dogs.groupby(['breeds.primary', 'breeds.mixed'])['id'].count().reset_index(name='count').sort_values('count', ascending=False).head(20)\n",
    "\n",
    "top_20"
   ]
  },
  {
   "cell_type": "markdown",
   "id": "15188411",
   "metadata": {},
   "source": [
    "What are the top 20 full breeds and top 20 mixed breeds (include secondary breed)?"
   ]
  },
  {
   "cell_type": "code",
   "execution_count": null,
   "id": "446fffd2",
   "metadata": {},
   "outputs": [],
   "source": [
    "# Top 20 full breeds\n",
    "\n",
    "# Group ids by primary breed\n",
    "top_20_fb = full.groupby('breeds.primary')['id'].count().reset_index(name='count').sort_values('count', ascending=False).head(21)\n",
    "\n",
    "# Drop index 100 because it is not relevant\n",
    "#top_20_fb = top_20_fb.drop(100)\n",
    "top_20_fb"
   ]
  },
  {
   "cell_type": "code",
   "execution_count": null,
   "id": "42ccd03a",
   "metadata": {},
   "outputs": [],
   "source": []
  }
 ],
 "metadata": {
  "kernelspec": {
   "display_name": "Python 3 (ipykernel)",
   "language": "python",
   "name": "python3"
  },
  "language_info": {
   "codemirror_mode": {
    "name": "ipython",
    "version": 3
   },
   "file_extension": ".py",
   "mimetype": "text/x-python",
   "name": "python",
   "nbconvert_exporter": "python",
   "pygments_lexer": "ipython3",
   "version": "3.11.5"
  }
 },
 "nbformat": 4,
 "nbformat_minor": 5
}
